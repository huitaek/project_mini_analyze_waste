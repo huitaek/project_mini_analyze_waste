{
 "cells": [
  {
   "cell_type": "code",
   "execution_count": 1,
   "metadata": {},
   "outputs": [],
   "source": [
    "import psycopg2"
   ]
  },
  {
   "cell_type": "code",
   "execution_count": 57,
   "metadata": {},
   "outputs": [],
   "source": [
    "options = {\n",
    "    \"host\":\"172.20.57.118\", # in local network\n",
    "    \"dbname\":\"project\", # already made\n",
    "    \"user\":\"remote\", # \n",
    "    \"password\":'remote',\n",
    "    \"port\":\"5432\"\n",
    "}\n",
    "\n",
    "connection = psycopg2.connect(**options)\n",
    "connection.autocommit = True\n",
    "\n",
    "cursor = connection.cursor()"
   ]
  },
  {
   "cell_type": "code",
   "execution_count": 55,
   "metadata": {},
   "outputs": [
    {
     "data": {
      "text/plain": [
       "(23,)"
      ]
     },
     "execution_count": 55,
     "metadata": {},
     "output_type": "execute_result"
    }
   ],
   "source": [
    "cursor.execute('SQL')\n",
    "cursor.fetchone()"
   ]
  },
  {
   "cell_type": "code",
   "execution_count": null,
   "metadata": {},
   "outputs": [],
   "source": [
    "connection.close()"
   ]
  }
 ],
 "metadata": {
  "interpreter": {
   "hash": "3b7c57cf39f93516c18e93ec00996bd8c8634244875568962caaacd1998c70f8"
  },
  "kernelspec": {
   "display_name": "Python 3.6.13 ('mini_proj')",
   "language": "python",
   "name": "python3"
  },
  "language_info": {
   "codemirror_mode": {
    "name": "ipython",
    "version": 3
   },
   "file_extension": ".py",
   "mimetype": "text/x-python",
   "name": "python",
   "nbconvert_exporter": "python",
   "pygments_lexer": "ipython3",
   "version": "3.9.12"
  },
  "orig_nbformat": 4
 },
 "nbformat": 4,
 "nbformat_minor": 2
}
