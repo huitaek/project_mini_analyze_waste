{
 "cells": [
  {
   "cell_type": "code",
   "execution_count": 1,
   "metadata": {},
   "outputs": [
    {
     "name": "stdout",
     "output_type": "stream",
     "text": [
      "^C\n"
     ]
    }
   ],
   "source": [
    "! conda create -n your_env_name python=3.9"
   ]
  },
  {
   "cell_type": "code",
   "execution_count": null,
   "metadata": {},
   "outputs": [],
   "source": [
    "! conda install matplotlib\n",
    "! conda install seaborn\n",
    "! conda install pandas\n",
    "! conda install ipykernel\n",
    "! conda install requests\n",
    "! pip install folium\n",
    "! pip install tensorflow\n",
    "! pip install scikit-learn\n",
    "! pip install psycopg2"
   ]
  }
 ],
 "metadata": {
  "interpreter": {
   "hash": "35ae3c712acb25a66232d0df9eda9b6b6269fe3f0cc283dbd3f2114eed1eb2c7"
  },
  "kernelspec": {
   "display_name": "Python 3.9.12 ('enviro')",
   "language": "python",
   "name": "python3"
  },
  "language_info": {
   "codemirror_mode": {
    "name": "ipython",
    "version": 3
   },
   "file_extension": ".py",
   "mimetype": "text/x-python",
   "name": "python",
   "nbconvert_exporter": "python",
   "pygments_lexer": "ipython3",
   "version": "3.9.12"
  },
  "orig_nbformat": 4
 },
 "nbformat": 4,
 "nbformat_minor": 2
}
