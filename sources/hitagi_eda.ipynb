{
 "cells": [
  {
   "cell_type": "markdown",
   "metadata": {},
   "source": [
    "# Exploratory Data Analysis"
   ]
  },
  {
   "cell_type": "markdown",
   "metadata": {},
   "source": [
    "### 사용 라이브러리"
   ]
  },
  {
   "cell_type": "code",
   "execution_count": 16,
   "metadata": {},
   "outputs": [],
   "source": [
    "import pandas as pd\n",
    "import numpy as np\n",
    "\n",
    "# 그래프 관련 라이브러리\n",
    "import matplotlib.pyplot as plt\n",
    "import seaborn as sns\n",
    "import platform\n",
    "\n",
    "# 한글 폰트 설정\n",
    "if (platform.system() == 'Windows'):\n",
    "    plt.rc('font', family='Malgun Gothic')\n",
    "else:\n",
    "    plt.rc('font', family='AppleGothic')\n",
    "\n",
    "# 음수(-)가 깨지는 현상 방지\n",
    "plt.rcParams['axes.unicode_minus'] = False "
   ]
  },
  {
   "cell_type": "markdown",
   "metadata": {},
   "source": [
    "## 일반폐기물재활용률(10-19)"
   ]
  },
  {
   "cell_type": "markdown",
   "metadata": {},
   "source": [
    "### 1.0 데이터 불러오기"
   ]
  },
  {
   "cell_type": "code",
   "execution_count": 18,
   "metadata": {},
   "outputs": [],
   "source": [
    "df = pd.read_csv('./files/data/refined_data/일반폐기물재활용률(10-19).csv')"
   ]
  },
  {
   "cell_type": "markdown",
   "metadata": {},
   "source": [
    "### 2.0 데이터 탐색 및 전처리"
   ]
  },
  {
   "cell_type": "code",
   "execution_count": 20,
   "metadata": {},
   "outputs": [
    {
     "name": "stdout",
     "output_type": "stream",
     "text": [
      "<class 'pandas.core.frame.DataFrame'>\n",
      "RangeIndex: 2340 entries, 0 to 2339\n",
      "Data columns (total 6 columns):\n",
      " #   Column     Non-Null Count  Dtype \n",
      "---  ------     --------------  ----- \n",
      " 0   행정구역별(1)   2340 non-null   object\n",
      " 1   행정구역별(2)   2340 non-null   object\n",
      " 2   year       2340 non-null   int64 \n",
      " 3   일반폐기물재활용률  2340 non-null   object\n",
      " 4   총재활용량      2340 non-null   object\n",
      " 5   생활폐기물총발생량  2340 non-null   object\n",
      "dtypes: int64(1), object(5)\n",
      "memory usage: 109.8+ KB\n"
     ]
    }
   ],
   "source": [
    "df.info() \n",
    "\n",
    "# Not-null, 2520 ROW\n",
    "\n",
    "# 행정구역별(1), (2)          object\n",
    "# year (연도)             int64\n",
    "# 일반폐기물재활용률(%)      object -> float\n",
    "# 총재활용량(톤/일)         object -> float\n",
    "# 생활폐기물총발생량(톤/일)  object -> float"
   ]
  },
  {
   "cell_type": "markdown",
   "metadata": {},
   "source": [
    "##### 결측치 처리"
   ]
  },
  {
   "cell_type": "code",
   "execution_count": 21,
   "metadata": {},
   "outputs": [],
   "source": [
    "# 실질적 결측치 처리\n",
    "\n",
    "df['일반폐기물재활용률'].unique() # '-' 값 존재 (실질적 결측치)\n",
    "\n",
    "condition = df['일반폐기물재활용률'] == '-'\n",
    "df[condition] # 동일한 ROW에 56개 존재\n",
    "\n",
    "# 신설된 시군구로 인한 결측치 발생 추측\n",
    "# 결측치 정책: 0으로 대치\n",
    "df.replace('-', '0', inplace=True)"
   ]
  },
  {
   "cell_type": "markdown",
   "metadata": {},
   "source": [
    "##### 데이터 변환"
   ]
  },
  {
   "cell_type": "code",
   "execution_count": 56,
   "metadata": {},
   "outputs": [],
   "source": [
    "# 자료형 변환 (object -> float)\n",
    "\n",
    "df['year'] = df['year'].astype('object')\n",
    "\n",
    "df['일반폐기물재활용률'] = df['일반폐기물재활용률'].astype('float')\n",
    "\n",
    "df['총재활용량'] = df['총재활용량'].astype('float')\n",
    "\n",
    "df['생활폐기물총발생량'] = df['생활폐기물총발생량'].astype('float')"
   ]
  },
  {
   "cell_type": "code",
   "execution_count": 44,
   "metadata": {},
   "outputs": [
    {
     "data": {
      "text/html": [
       "<div>\n",
       "<style scoped>\n",
       "    .dataframe tbody tr th:only-of-type {\n",
       "        vertical-align: middle;\n",
       "    }\n",
       "\n",
       "    .dataframe tbody tr th {\n",
       "        vertical-align: top;\n",
       "    }\n",
       "\n",
       "    .dataframe thead th {\n",
       "        text-align: right;\n",
       "    }\n",
       "</style>\n",
       "<table border=\"1\" class=\"dataframe\">\n",
       "  <thead>\n",
       "    <tr style=\"text-align: right;\">\n",
       "      <th></th>\n",
       "      <th>일반폐기물재활용률</th>\n",
       "      <th>총재활용량</th>\n",
       "      <th>생활폐기물총발생량</th>\n",
       "    </tr>\n",
       "  </thead>\n",
       "  <tbody>\n",
       "    <tr>\n",
       "      <th>count</th>\n",
       "      <td>2340.000000</td>\n",
       "      <td>2340.000000</td>\n",
       "      <td>2340.000000</td>\n",
       "    </tr>\n",
       "    <tr>\n",
       "      <th>mean</th>\n",
       "      <td>53.035000</td>\n",
       "      <td>131.879444</td>\n",
       "      <td>220.013974</td>\n",
       "    </tr>\n",
       "    <tr>\n",
       "      <th>std</th>\n",
       "      <td>18.476864</td>\n",
       "      <td>139.294137</td>\n",
       "      <td>216.906115</td>\n",
       "    </tr>\n",
       "    <tr>\n",
       "      <th>min</th>\n",
       "      <td>0.000000</td>\n",
       "      <td>0.000000</td>\n",
       "      <td>0.000000</td>\n",
       "    </tr>\n",
       "    <tr>\n",
       "      <th>25%</th>\n",
       "      <td>42.400000</td>\n",
       "      <td>23.900000</td>\n",
       "      <td>53.775000</td>\n",
       "    </tr>\n",
       "    <tr>\n",
       "      <th>50%</th>\n",
       "      <td>55.500000</td>\n",
       "      <td>89.250000</td>\n",
       "      <td>165.900000</td>\n",
       "    </tr>\n",
       "    <tr>\n",
       "      <th>75%</th>\n",
       "      <td>66.025000</td>\n",
       "      <td>199.675000</td>\n",
       "      <td>315.175000</td>\n",
       "    </tr>\n",
       "    <tr>\n",
       "      <th>max</th>\n",
       "      <td>100.000000</td>\n",
       "      <td>1105.800000</td>\n",
       "      <td>1526.900000</td>\n",
       "    </tr>\n",
       "  </tbody>\n",
       "</table>\n",
       "</div>"
      ],
      "text/plain": [
       "         일반폐기물재활용률        총재활용량    생활폐기물총발생량\n",
       "count  2340.000000  2340.000000  2340.000000\n",
       "mean     53.035000   131.879444   220.013974\n",
       "std      18.476864   139.294137   216.906115\n",
       "min       0.000000     0.000000     0.000000\n",
       "25%      42.400000    23.900000    53.775000\n",
       "50%      55.500000    89.250000   165.900000\n",
       "75%      66.025000   199.675000   315.175000\n",
       "max     100.000000  1105.800000  1526.900000"
      ]
     },
     "execution_count": 44,
     "metadata": {},
     "output_type": "execute_result"
    }
   ],
   "source": [
    "df.describe() "
   ]
  },
  {
   "cell_type": "code",
   "execution_count": 45,
   "metadata": {},
   "outputs": [
    {
     "data": {
      "text/html": [
       "<div>\n",
       "<style scoped>\n",
       "    .dataframe tbody tr th:only-of-type {\n",
       "        vertical-align: middle;\n",
       "    }\n",
       "\n",
       "    .dataframe tbody tr th {\n",
       "        vertical-align: top;\n",
       "    }\n",
       "\n",
       "    .dataframe thead th {\n",
       "        text-align: right;\n",
       "    }\n",
       "</style>\n",
       "<table border=\"1\" class=\"dataframe\">\n",
       "  <thead>\n",
       "    <tr style=\"text-align: right;\">\n",
       "      <th></th>\n",
       "      <th>일반폐기물재활용률</th>\n",
       "      <th>총재활용량</th>\n",
       "      <th>생활폐기물총발생량</th>\n",
       "    </tr>\n",
       "  </thead>\n",
       "  <tbody>\n",
       "    <tr>\n",
       "      <th>일반폐기물재활용률</th>\n",
       "      <td>1.000000</td>\n",
       "      <td>0.498241</td>\n",
       "      <td>0.379290</td>\n",
       "    </tr>\n",
       "    <tr>\n",
       "      <th>총재활용량</th>\n",
       "      <td>0.498241</td>\n",
       "      <td>1.000000</td>\n",
       "      <td>0.972267</td>\n",
       "    </tr>\n",
       "    <tr>\n",
       "      <th>생활폐기물총발생량</th>\n",
       "      <td>0.379290</td>\n",
       "      <td>0.972267</td>\n",
       "      <td>1.000000</td>\n",
       "    </tr>\n",
       "  </tbody>\n",
       "</table>\n",
       "</div>"
      ],
      "text/plain": [
       "           일반폐기물재활용률     총재활용량  생활폐기물총발생량\n",
       "일반폐기물재활용률   1.000000  0.498241   0.379290\n",
       "총재활용량       0.498241  1.000000   0.972267\n",
       "생활폐기물총발생량   0.379290  0.972267   1.000000"
      ]
     },
     "execution_count": 45,
     "metadata": {},
     "output_type": "execute_result"
    }
   ],
   "source": [
    "df.corr()\n",
    "\n",
    "# 생활폐기물총발생량과 총재활용량은 강한 상관관계를 가짐.\n",
    "# 일반폐기물재활용률 = 생활폐기물총발생량 / 총재활용량"
   ]
  },
  {
   "cell_type": "markdown",
   "metadata": {},
   "source": [
    "### 3.0 시각적 EDA"
   ]
  },
  {
   "cell_type": "code",
   "execution_count": 36,
   "metadata": {},
   "outputs": [
    {
     "data": {
      "image/png": "[encoded data removed]",
      "text/plain": [
       "<Figure size 432x432 with 1 Axes>"
      ]
     },
     "metadata": {
      "needs_background": "light"
     },
     "output_type": "display_data"
    }
   ],
   "source": [
    "# 데이터 분포\n",
    "\n",
    "plt.figure(figsize=(6, 6))\n",
    "\n",
    "sns.regplot(x=df[\"총재활용량\"], y=df[\"생활폐기물총발생량\"], fit_reg=True, scatter_kws={\"color\":'cornflowerblue',\"alpha\":0.5,\"s\":5})\n",
    "\n",
    "plt.title('총재활용량 & 생활폐기물총발생량 상관관계')\n",
    "\n",
    "ax = plt.gca()\n",
    "ax.spines['right'].set_visible(False)\n",
    "ax.spines['top'].set_visible(False)\n",
    "ax.spines['left'].set_visible(False)\n",
    "ax.spines['bottom'].set_visible(False)\n",
    "plt.tick_params(bottom=False)\n",
    "plt.tick_params(left=False)\n",
    "plt.show()"
   ]
  },
  {
   "cell_type": "code",
   "execution_count": 70,
   "metadata": {},
   "outputs": [
    {
     "data": {
      "text/html": [
       "<div>\n",
       "<style scoped>\n",
       "    .dataframe tbody tr th:only-of-type {\n",
       "        vertical-align: middle;\n",
       "    }\n",
       "\n",
       "    .dataframe tbody tr th {\n",
       "        vertical-align: top;\n",
       "    }\n",
       "\n",
       "    .dataframe thead th {\n",
       "        text-align: right;\n",
       "    }\n",
       "</style>\n",
       "<table border=\"1\" class=\"dataframe\">\n",
       "  <thead>\n",
       "    <tr style=\"text-align: right;\">\n",
       "      <th></th>\n",
       "      <th>행정구역별(1)</th>\n",
       "      <th>행정구역별(2)</th>\n",
       "      <th>year</th>\n",
       "      <th>일반폐기물재활용률</th>\n",
       "      <th>총재활용량</th>\n",
       "      <th>생활폐기물총발생량</th>\n",
       "    </tr>\n",
       "  </thead>\n",
       "  <tbody>\n",
       "    <tr>\n",
       "      <th>0</th>\n",
       "      <td>서울특별시</td>\n",
       "      <td>종로구</td>\n",
       "      <td>2010</td>\n",
       "      <td>65.6</td>\n",
       "      <td>288.0</td>\n",
       "      <td>439.0</td>\n",
       "    </tr>\n",
       "    <tr>\n",
       "      <th>1</th>\n",
       "      <td>서울특별시</td>\n",
       "      <td>중구</td>\n",
       "      <td>2010</td>\n",
       "      <td>54.5</td>\n",
       "      <td>288.4</td>\n",
       "      <td>529.2</td>\n",
       "    </tr>\n",
       "    <tr>\n",
       "      <th>2</th>\n",
       "      <td>서울특별시</td>\n",
       "      <td>용산구</td>\n",
       "      <td>2010</td>\n",
       "      <td>88.8</td>\n",
       "      <td>180.8</td>\n",
       "      <td>203.7</td>\n",
       "    </tr>\n",
       "    <tr>\n",
       "      <th>3</th>\n",
       "      <td>서울특별시</td>\n",
       "      <td>성동구</td>\n",
       "      <td>2010</td>\n",
       "      <td>62.8</td>\n",
       "      <td>177.2</td>\n",
       "      <td>282.0</td>\n",
       "    </tr>\n",
       "    <tr>\n",
       "      <th>4</th>\n",
       "      <td>서울특별시</td>\n",
       "      <td>광진구</td>\n",
       "      <td>2010</td>\n",
       "      <td>73.6</td>\n",
       "      <td>288.6</td>\n",
       "      <td>392.3</td>\n",
       "    </tr>\n",
       "    <tr>\n",
       "      <th>...</th>\n",
       "      <td>...</td>\n",
       "      <td>...</td>\n",
       "      <td>...</td>\n",
       "      <td>...</td>\n",
       "      <td>...</td>\n",
       "      <td>...</td>\n",
       "    </tr>\n",
       "    <tr>\n",
       "      <th>229</th>\n",
       "      <td>경상남도</td>\n",
       "      <td>함양군</td>\n",
       "      <td>2010</td>\n",
       "      <td>23.4</td>\n",
       "      <td>6.4</td>\n",
       "      <td>27.3</td>\n",
       "    </tr>\n",
       "    <tr>\n",
       "      <th>230</th>\n",
       "      <td>경상남도</td>\n",
       "      <td>거창군</td>\n",
       "      <td>2010</td>\n",
       "      <td>29.1</td>\n",
       "      <td>14.7</td>\n",
       "      <td>50.5</td>\n",
       "    </tr>\n",
       "    <tr>\n",
       "      <th>231</th>\n",
       "      <td>경상남도</td>\n",
       "      <td>합천군</td>\n",
       "      <td>2010</td>\n",
       "      <td>45.9</td>\n",
       "      <td>16.2</td>\n",
       "      <td>35.3</td>\n",
       "    </tr>\n",
       "    <tr>\n",
       "      <th>232</th>\n",
       "      <td>제주특별자치도</td>\n",
       "      <td>제주시</td>\n",
       "      <td>2010</td>\n",
       "      <td>57.7</td>\n",
       "      <td>272.0</td>\n",
       "      <td>471.4</td>\n",
       "    </tr>\n",
       "    <tr>\n",
       "      <th>233</th>\n",
       "      <td>제주특별자치도</td>\n",
       "      <td>서귀포시</td>\n",
       "      <td>2010</td>\n",
       "      <td>39.1</td>\n",
       "      <td>65.5</td>\n",
       "      <td>167.4</td>\n",
       "    </tr>\n",
       "  </tbody>\n",
       "</table>\n",
       "<p>234 rows × 6 columns</p>\n",
       "</div>"
      ],
      "text/plain": [
       "    행정구역별(1) 행정구역별(2)  year  일반폐기물재활용률  총재활용량  생활폐기물총발생량\n",
       "0      서울특별시      종로구  2010       65.6  288.0      439.0\n",
       "1      서울특별시       중구  2010       54.5  288.4      529.2\n",
       "2      서울특별시      용산구  2010       88.8  180.8      203.7\n",
       "3      서울특별시      성동구  2010       62.8  177.2      282.0\n",
       "4      서울특별시      광진구  2010       73.6  288.6      392.3\n",
       "..       ...      ...   ...        ...    ...        ...\n",
       "229     경상남도      함양군  2010       23.4    6.4       27.3\n",
       "230     경상남도      거창군  2010       29.1   14.7       50.5\n",
       "231     경상남도      합천군  2010       45.9   16.2       35.3\n",
       "232  제주특별자치도      제주시  2010       57.7  272.0      471.4\n",
       "233  제주특별자치도     서귀포시  2010       39.1   65.5      167.4\n",
       "\n",
       "[234 rows x 6 columns]"
      ]
     },
     "execution_count": 70,
     "metadata": {},
     "output_type": "execute_result"
    }
   ],
   "source": [
    "df_2011 = df[df['year']==2010]\n",
    "df_2011"
   ]
  },
  {
   "cell_type": "code",
   "execution_count": 73,
   "metadata": {},
   "outputs": [
    {
     "data": {
      "text/plain": [
       "행정구역별(1)\n",
       "강원도        49.333333\n",
       "경기도        58.703125\n",
       "경상남도       46.050000\n",
       "경상북도       43.078261\n",
       "광주광역시      63.540000\n",
       "대구광역시      55.750000\n",
       "대전광역시      64.180000\n",
       "부산광역시      66.618750\n",
       "서울특별시      65.252000\n",
       "울산광역시      67.640000\n",
       "인천광역시      58.600000\n",
       "전라남도       42.154545\n",
       "전라북도       53.928571\n",
       "제주특별자치도    48.400000\n",
       "충청남도       46.700000\n",
       "충청북도       46.384615\n",
       "Name: 일반폐기물재활용률, dtype: float64"
      ]
     },
     "execution_count": 73,
     "metadata": {},
     "output_type": "execute_result"
    }
   ],
   "source": [
    "df_2011.groupby(['행정구역별(1)'])['일반폐기물재활용률'].mean()"
   ]
  },
  {
   "cell_type": "code",
   "execution_count": 68,
   "metadata": {},
   "outputs": [
    {
     "data": {
      "image/png": "[encoded data removed]",
      "text/plain": [
       "<Figure size 720x504 with 1 Axes>"
      ]
     },
     "metadata": {
      "needs_background": "light"
     },
     "output_type": "display_data"
    }
   ],
   "source": [
    "# Set the figure size\n",
    "plt.figure(figsize=(10, 7))\n",
    "\n",
    "\n",
    "# plot a bar chart\n",
    "plot1 = plt.bar(df_2011['행정구역별(1)'], df_2011['일반폐기물재활용률'], color='#69b3a2');\n",
    "\n",
    "for value in plot1:\n",
    "    height = value.get_height()\n",
    "    plt.text(value.get_x() + value.get_width()/2.,\n",
    "             0.95*height,'%d' % int(height), ha='center', va='bottom')"
   ]
  },
  {
   "cell_type": "code",
   "execution_count": null,
   "metadata": {},
   "outputs": [],
   "source": [
    "# 대분류 분포 그래프\n",
    "\n",
    "digit_1_count = train.groupby(['digit_1'], as_index=False)['AI_id'].count()\n",
    "digit_1_count.replace(digit_1_dict, inplace=True)\n",
    "\n",
    "# Set the figure size\n",
    "plot1 = plt.figure(figsize=(10, 5))\n",
    "\n",
    "# plot a bar chart\n",
    "sns.barplot(\n",
    "    x = 'AI_id', y = 'digit_1',\n",
    "    data = df,\n",
    "    estimator=sum, \n",
    "    ci=None, \n",
    "    order = list(digit_1_count.sort_values('AI_id', ascending=False)['digit_1']),\n",
    "    color='#69b3a2');\n",
    "\n",
    "# Hide spines and ticks\n",
    "ax = plt.gca()\n",
    "ax.spines['right'].set_visible(False)\n",
    "ax.spines['top'].set_visible(False)\n",
    "ax.spines['left'].set_visible(False)\n",
    "ax.spines['bottom'].set_visible(False)\n",
    "plt.tick_params(bottom=False)\n",
    "plt.tick_params(left=False)\n",
    "plt.xlabel(\"\")\n",
    "plt.ylabel(\"\")\n",
    "\n",
    "plt.show()"
   ]
  }
 ],
 "metadata": {
  "interpreter": {
   "hash": "4d2e1faf8c6d58f681ff2a85f4426f4e76407888f7e70def260924171f99064b"
  },
  "kernelspec": {
   "display_name": "Python 3.9.7 64-bit",
   "language": "python",
   "name": "python3"
  },
  "language_info": {
   "codemirror_mode": {
    "name": "ipython",
    "version": 3
   },
   "file_extension": ".py",
   "mimetype": "text/x-python",
   "name": "python",
   "nbconvert_exporter": "python",
   "pygments_lexer": "ipython3",
   "version": "3.8.8"
  },
  "orig_nbformat": 4
 },
 "nbformat": 4,
 "nbformat_minor": 2
}
