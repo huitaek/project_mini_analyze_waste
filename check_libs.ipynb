{
 "cells": [
  {
   "cell_type": "markdown",
   "metadata": {},
   "source": [
    "## check installed libs"
   ]
  },
  {
   "cell_type": "code",
   "execution_count": 1,
   "metadata": {},
   "outputs": [
    {
     "name": "stdout",
     "output_type": "stream",
     "text": [
      "# packages in environment at C:\\Users\\kdh\\miniconda3\\envs\\mini_proj:\n",
      "#\n",
      "# Name                    Version                   Build  Channel\n",
      "ipython                   8.2.0                    pypi_0    pypi\n",
      "python                    3.9.12               h6244533_0  \n",
      "python-dateutil           2.8.2                    pypi_0    pypi\n"
     ]
    }
   ],
   "source": [
    "! conda list python"
   ]
  },
  {
   "cell_type": "code",
   "execution_count": 2,
   "metadata": {},
   "outputs": [
    {
     "name": "stdout",
     "output_type": "stream",
     "text": [
      "# packages in environment at C:\\Users\\kdh\\miniconda3\\envs\\mini_proj:\n",
      "#\n",
      "# Name                    Version                   Build  Channel\n",
      "pandas                    1.1.5                    pypi_0    pypi\n"
     ]
    }
   ],
   "source": [
    "! conda list pandas"
   ]
  },
  {
   "cell_type": "code",
   "execution_count": 3,
   "metadata": {},
   "outputs": [
    {
     "name": "stdout",
     "output_type": "stream",
     "text": [
      "# packages in environment at C:\\Users\\kdh\\miniconda3\\envs\\mini_proj:\n",
      "#\n",
      "# Name                    Version                   Build  Channel\n",
      "numpy                     1.22.3                   pypi_0    pypi\n",
      "numpy-base                1.21.5           py39hc2deb75_0  \n"
     ]
    }
   ],
   "source": [
    "! conda list numpy"
   ]
  },
  {
   "cell_type": "code",
   "execution_count": 4,
   "metadata": {},
   "outputs": [
    {
     "name": "stdout",
     "output_type": "stream",
     "text": [
      "# packages in environment at C:\\Users\\kdh\\miniconda3\\envs\\mini_proj:\n",
      "#\n",
      "# Name                    Version                   Build  Channel\n",
      "matplotlib                3.3.4                    pypi_0    pypi\n",
      "matplotlib-inline         0.1.3                    pypi_0    pypi\n"
     ]
    }
   ],
   "source": [
    "! conda list matplotlib"
   ]
  },
  {
   "cell_type": "code",
   "execution_count": 5,
   "metadata": {},
   "outputs": [
    {
     "name": "stdout",
     "output_type": "stream",
     "text": [
      "# packages in environment at C:\\Users\\kdh\\miniconda3\\envs\\mini_proj:\n",
      "#\n",
      "# Name                    Version                   Build  Channel\n",
      "seaborn                   0.11.2                   pypi_0    pypi\n"
     ]
    }
   ],
   "source": [
    "! conda list seaborn"
   ]
  },
  {
   "cell_type": "code",
   "execution_count": 6,
   "metadata": {},
   "outputs": [
    {
     "name": "stdout",
     "output_type": "stream",
     "text": [
      "# packages in environment at C:\\Users\\kdh\\miniconda3\\envs\\mini_proj:\n",
      "#\n",
      "# Name                    Version                   Build  Channel\n",
      "tensorflow                2.8.0                    pypi_0    pypi\n",
      "tensorflow-io-gcs-filesystem 0.24.0                   pypi_0    pypi\n"
     ]
    }
   ],
   "source": [
    "! conda list tensorflow"
   ]
  },
  {
   "cell_type": "code",
   "execution_count": 7,
   "metadata": {},
   "outputs": [
    {
     "name": "stdout",
     "output_type": "stream",
     "text": [
      "# packages in environment at C:\\Users\\kdh\\miniconda3\\envs\\mini_proj:\n",
      "#\n",
      "# Name                    Version                   Build  Channel\n",
      "scikit-learn              1.0.2            py39hf11a4ad_1  \n"
     ]
    }
   ],
   "source": [
    "! conda list scikit-learn"
   ]
  },
  {
   "cell_type": "code",
   "execution_count": 8,
   "metadata": {},
   "outputs": [
    {
     "name": "stdout",
     "output_type": "stream",
     "text": [
      "# packages in environment at C:\\Users\\kdh\\miniconda3\\envs\\mini_proj:\n",
      "#\n",
      "# Name                    Version                   Build  Channel\n",
      "psycopg2                  2.9.3                    pypi_0    pypi\n"
     ]
    }
   ],
   "source": [
    "! conda list psycopg2"
   ]
  }
 ],
 "metadata": {
  "interpreter": {
   "hash": "3b7c57cf39f93516c18e93ec00996bd8c8634244875568962caaacd1998c70f8"
  },
  "kernelspec": {
   "display_name": "Python 3.6.13 ('mini_proj')",
   "language": "python",
   "name": "python3"
  },
  "language_info": {
   "codemirror_mode": {
    "name": "ipython",
    "version": 3
   },
   "file_extension": ".py",
   "mimetype": "text/x-python",
   "name": "python",
   "nbconvert_exporter": "python",
   "pygments_lexer": "ipython3",
   "version": "3.9.12"
  },
  "orig_nbformat": 4
 },
 "nbformat": 4,
 "nbformat_minor": 2
}
