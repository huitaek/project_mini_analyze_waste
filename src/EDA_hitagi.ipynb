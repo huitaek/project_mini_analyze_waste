{
 "cells": [
  {
   "cell_type": "markdown",
   "metadata": {},
   "source": [
    "# Exploratory Data Analysis"
   ]
  },
  {
   "cell_type": "markdown",
   "metadata": {},
   "source": [
    "### 사용 라이브러리"
   ]
  },
  {
   "cell_type": "code",
   "execution_count": 1,
   "metadata": {},
   "outputs": [],
   "source": [
    "import pandas as pd\n",
    "import numpy as np\n",
    "\n",
    "# 그래프 관련 라이브러리\n",
    "import matplotlib.pyplot as plt\n",
    "import seaborn as sns\n",
    "import platform\n",
    "from libs import get_file_dir\n",
    "\n",
    "# 한글 폰트 설정\n",
    "if (platform.system() == 'Windows'):\n",
    "    plt.rc('font', family='Malgun Gothic')\n",
    "else:\n",
    "    plt.rc('font', family='AppleGothic')\n",
    "\n",
    "# 음수(-)가 깨지는 현상 방지\n",
    "plt.rcParams['axes.unicode_minus'] = False "
   ]
  },
  {
   "cell_type": "markdown",
   "metadata": {},
   "source": [
    "## 일반폐기물재활용률(10-19)"
   ]
  },
  {
   "cell_type": "markdown",
   "metadata": {},
   "source": [
    "### 1.0 데이터 불러오기"
   ]
  },
  {
   "cell_type": "code",
   "execution_count": 5,
   "metadata": {},
   "outputs": [
    {
     "data": {
      "text/html": [
       "<div>\n",
       "<style scoped>\n",
       "    .dataframe tbody tr th:only-of-type {\n",
       "        vertical-align: middle;\n",
       "    }\n",
       "\n",
       "    .dataframe tbody tr th {\n",
       "        vertical-align: top;\n",
       "    }\n",
       "\n",
       "    .dataframe thead th {\n",
       "        text-align: right;\n",
       "    }\n",
       "</style>\n",
       "<table border=\"1\" class=\"dataframe\">\n",
       "  <thead>\n",
       "    <tr style=\"text-align: right;\">\n",
       "      <th></th>\n",
       "      <th>행정구역별(1)</th>\n",
       "      <th>행정구역별(2)</th>\n",
       "      <th>year</th>\n",
       "      <th>일반폐기물재활용률</th>\n",
       "      <th>총재활용량</th>\n",
       "      <th>생활폐기물총발생량</th>\n",
       "    </tr>\n",
       "  </thead>\n",
       "  <tbody>\n",
       "    <tr>\n",
       "      <th>0</th>\n",
       "      <td>서울특별시</td>\n",
       "      <td>종로구</td>\n",
       "      <td>2010</td>\n",
       "      <td>65.6</td>\n",
       "      <td>288.0</td>\n",
       "      <td>439.0</td>\n",
       "    </tr>\n",
       "    <tr>\n",
       "      <th>1</th>\n",
       "      <td>서울특별시</td>\n",
       "      <td>중구</td>\n",
       "      <td>2010</td>\n",
       "      <td>54.5</td>\n",
       "      <td>288.4</td>\n",
       "      <td>529.2</td>\n",
       "    </tr>\n",
       "    <tr>\n",
       "      <th>2</th>\n",
       "      <td>서울특별시</td>\n",
       "      <td>용산구</td>\n",
       "      <td>2010</td>\n",
       "      <td>88.8</td>\n",
       "      <td>180.8</td>\n",
       "      <td>203.7</td>\n",
       "    </tr>\n",
       "  </tbody>\n",
       "</table>\n",
       "</div>"
      ],
      "text/plain": [
       "  행정구역별(1) 행정구역별(2)  year 일반폐기물재활용률  총재활용량 생활폐기물총발생량\n",
       "0    서울특별시      종로구  2010      65.6  288.0     439.0\n",
       "1    서울특별시       중구  2010      54.5  288.4     529.2\n",
       "2    서울특별시      용산구  2010      88.8  180.8     203.7"
      ]
     },
     "execution_count": 5,
     "metadata": {},
     "output_type": "execute_result"
    }
   ],
   "source": [
    "df = pd.read_csv(get_file_dir('refined','일반폐기물재활용률(10-19).csv'))"
   ]
  },
  {
   "cell_type": "markdown",
   "metadata": {},
   "source": [
    "### 2.0 데이터 탐색 및 전처리"
   ]
  },
  {
   "cell_type": "code",
   "execution_count": 20,
   "metadata": {},
   "outputs": [
    {
     "name": "stdout",
     "output_type": "stream",
     "text": [
      "<class 'pandas.core.frame.DataFrame'>\n",
      "RangeIndex: 2340 entries, 0 to 2339\n",
      "Data columns (total 6 columns):\n",
      " #   Column     Non-Null Count  Dtype \n",
      "---  ------     --------------  ----- \n",
      " 0   행정구역별(1)   2340 non-null   object\n",
      " 1   행정구역별(2)   2340 non-null   object\n",
      " 2   year       2340 non-null   int64 \n",
      " 3   일반폐기물재활용률  2340 non-null   object\n",
      " 4   총재활용량      2340 non-null   object\n",
      " 5   생활폐기물총발생량  2340 non-null   object\n",
      "dtypes: int64(1), object(5)\n",
      "memory usage: 109.8+ KB\n"
     ]
    }
   ],
   "source": [
    "df.info() \n",
    "\n",
    "# Not-null, 2520 ROW\n",
    "\n",
    "# 행정구역별(1), (2)          object\n",
    "# year (연도)             int64\n",
    "# 일반폐기물재활용률(%)      object -> float\n",
    "# 총재활용량(톤/일)         object -> float\n",
    "# 생활폐기물총발생량(톤/일)  object -> float"
   ]
  },
  {
   "cell_type": "markdown",
   "metadata": {},
   "source": [
    "##### 결측치 처리"
   ]
  },
  {
   "cell_type": "code",
   "execution_count": 21,
   "metadata": {},
   "outputs": [],
   "source": [
    "# 실질적 결측치 처리\n",
    "\n",
    "df['일반폐기물재활용률'].unique() # '-' 값 존재 (실질적 결측치)\n",
    "\n",
    "condition = df['일반폐기물재활용률'] == '-'\n",
    "df[condition] # 동일한 ROW에 56개 존재\n",
    "\n",
    "# 신설된 시군구로 인한 결측치 발생 추측\n",
    "# 결측치 정책: 0으로 대치\n",
    "df.replace('-', '0', inplace=True)"
   ]
  },
  {
   "cell_type": "markdown",
   "metadata": {},
   "source": [
    "##### 데이터 변환"
   ]
  },
  {
   "cell_type": "code",
   "execution_count": 56,
   "metadata": {},
   "outputs": [],
   "source": [
    "# 자료형 변환 (object -> float)\n",
    "\n",
    "df['year'] = df['year'].astype('object')\n",
    "\n",
    "df['일반폐기물재활용률'] = df['일반폐기물재활용률'].astype('float')\n",
    "\n",
    "df['총재활용량'] = df['총재활용량'].astype('float')\n",
    "\n",
    "df['생활폐기물총발생량'] = df['생활폐기물총발생량'].astype('float')"
   ]
  },
  {
   "cell_type": "code",
   "execution_count": 44,
   "metadata": {},
   "outputs": [
    {
     "data": {
      "text/html": [
       "<div>\n",
       "<style scoped>\n",
       "    .dataframe tbody tr th:only-of-type {\n",
       "        vertical-align: middle;\n",
       "    }\n",
       "\n",
       "    .dataframe tbody tr th {\n",
       "        vertical-align: top;\n",
       "    }\n",
       "\n",
       "    .dataframe thead th {\n",
       "        text-align: right;\n",
       "    }\n",
       "</style>\n",
       "<table border=\"1\" class=\"dataframe\">\n",
       "  <thead>\n",
       "    <tr style=\"text-align: right;\">\n",
       "      <th></th>\n",
       "      <th>일반폐기물재활용률</th>\n",
       "      <th>총재활용량</th>\n",
       "      <th>생활폐기물총발생량</th>\n",
       "    </tr>\n",
       "  </thead>\n",
       "  <tbody>\n",
       "    <tr>\n",
       "      <th>count</th>\n",
       "      <td>2340.000000</td>\n",
       "      <td>2340.000000</td>\n",
       "      <td>2340.000000</td>\n",
       "    </tr>\n",
       "    <tr>\n",
       "      <th>mean</th>\n",
       "      <td>53.035000</td>\n",
       "      <td>131.879444</td>\n",
       "      <td>220.013974</td>\n",
       "    </tr>\n",
       "    <tr>\n",
       "      <th>std</th>\n",
       "      <td>18.476864</td>\n",
       "      <td>139.294137</td>\n",
       "      <td>216.906115</td>\n",
       "    </tr>\n",
       "    <tr>\n",
       "      <th>min</th>\n",
       "      <td>0.000000</td>\n",
       "      <td>0.000000</td>\n",
       "      <td>0.000000</td>\n",
       "    </tr>\n",
       "    <tr>\n",
       "      <th>25%</th>\n",
       "      <td>42.400000</td>\n",
       "      <td>23.900000</td>\n",
       "      <td>53.775000</td>\n",
       "    </tr>\n",
       "    <tr>\n",
       "      <th>50%</th>\n",
       "      <td>55.500000</td>\n",
       "      <td>89.250000</td>\n",
       "      <td>165.900000</td>\n",
       "    </tr>\n",
       "    <tr>\n",
       "      <th>75%</th>\n",
       "      <td>66.025000</td>\n",
       "      <td>199.675000</td>\n",
       "      <td>315.175000</td>\n",
       "    </tr>\n",
       "    <tr>\n",
       "      <th>max</th>\n",
       "      <td>100.000000</td>\n",
       "      <td>1105.800000</td>\n",
       "      <td>1526.900000</td>\n",
       "    </tr>\n",
       "  </tbody>\n",
       "</table>\n",
       "</div>"
      ],
      "text/plain": [
       "         일반폐기물재활용률        총재활용량    생활폐기물총발생량\n",
       "count  2340.000000  2340.000000  2340.000000\n",
       "mean     53.035000   131.879444   220.013974\n",
       "std      18.476864   139.294137   216.906115\n",
       "min       0.000000     0.000000     0.000000\n",
       "25%      42.400000    23.900000    53.775000\n",
       "50%      55.500000    89.250000   165.900000\n",
       "75%      66.025000   199.675000   315.175000\n",
       "max     100.000000  1105.800000  1526.900000"
      ]
     },
     "execution_count": 44,
     "metadata": {},
     "output_type": "execute_result"
    }
   ],
   "source": [
    "df.describe() "
   ]
  },
  {
   "cell_type": "code",
   "execution_count": 45,
   "metadata": {},
   "outputs": [
    {
     "data": {
      "text/html": [
       "<div>\n",
       "<style scoped>\n",
       "    .dataframe tbody tr th:only-of-type {\n",
       "        vertical-align: middle;\n",
       "    }\n",
       "\n",
       "    .dataframe tbody tr th {\n",
       "        vertical-align: top;\n",
       "    }\n",
       "\n",
       "    .dataframe thead th {\n",
       "        text-align: right;\n",
       "    }\n",
       "</style>\n",
       "<table border=\"1\" class=\"dataframe\">\n",
       "  <thead>\n",
       "    <tr style=\"text-align: right;\">\n",
       "      <th></th>\n",
       "      <th>일반폐기물재활용률</th>\n",
       "      <th>총재활용량</th>\n",
       "      <th>생활폐기물총발생량</th>\n",
       "    </tr>\n",
       "  </thead>\n",
       "  <tbody>\n",
       "    <tr>\n",
       "      <th>일반폐기물재활용률</th>\n",
       "      <td>1.000000</td>\n",
       "      <td>0.498241</td>\n",
       "      <td>0.379290</td>\n",
       "    </tr>\n",
       "    <tr>\n",
       "      <th>총재활용량</th>\n",
       "      <td>0.498241</td>\n",
       "      <td>1.000000</td>\n",
       "      <td>0.972267</td>\n",
       "    </tr>\n",
       "    <tr>\n",
       "      <th>생활폐기물총발생량</th>\n",
       "      <td>0.379290</td>\n",
       "      <td>0.972267</td>\n",
       "      <td>1.000000</td>\n",
       "    </tr>\n",
       "  </tbody>\n",
       "</table>\n",
       "</div>"
      ],
      "text/plain": [
       "           일반폐기물재활용률     총재활용량  생활폐기물총발생량\n",
       "일반폐기물재활용률   1.000000  0.498241   0.379290\n",
       "총재활용량       0.498241  1.000000   0.972267\n",
       "생활폐기물총발생량   0.379290  0.972267   1.000000"
      ]
     },
     "execution_count": 45,
     "metadata": {},
     "output_type": "execute_result"
    }
   ],
   "source": [
    "df.corr()\n",
    "\n",
    "# 생활폐기물총발생량과 총재활용량은 강한 상관관계를 가짐.\n",
    "# 일반폐기물재활용률 = 생활폐기물총발생량 / 총재활용량"
   ]
  },
  {
   "cell_type": "markdown",
   "metadata": {},
   "source": [
    "### 3.0 시각적 EDA"
   ]
  },
  {
   "cell_type": "code",
   "execution_count": 4,
   "metadata": {},
   "outputs": [
    {
     "ename": "UFuncTypeError",
     "evalue": "ufunc 'multiply' did not contain a loop with signature matching types (dtype('<U1'), dtype('float64')) -> None",
     "output_type": "error",
     "traceback": [
      "\u001b[1;31m---------------------------------------------------------------------------\u001b[0m",
      "\u001b[1;31mUFuncTypeError\u001b[0m                            Traceback (most recent call last)",
      "\u001b[1;32mc:\\Users\\kdh\\Desktop\\projects\\test\\src\\EDA_hitagi.ipynb Cell 16'\u001b[0m in \u001b[0;36m<cell line: 5>\u001b[1;34m()\u001b[0m\n\u001b[0;32m      <a href='vscode-notebook-cell:/c%3A/Users/kdh/Desktop/projects/test/src/EDA_hitagi.ipynb#ch0000015?line=0'>1</a>\u001b[0m \u001b[39m# 데이터 분포\u001b[39;00m\n\u001b[0;32m      <a href='vscode-notebook-cell:/c%3A/Users/kdh/Desktop/projects/test/src/EDA_hitagi.ipynb#ch0000015?line=2'>3</a>\u001b[0m plt\u001b[39m.\u001b[39mfigure(figsize\u001b[39m=\u001b[39m(\u001b[39m6\u001b[39m, \u001b[39m6\u001b[39m))\n\u001b[1;32m----> <a href='vscode-notebook-cell:/c%3A/Users/kdh/Desktop/projects/test/src/EDA_hitagi.ipynb#ch0000015?line=4'>5</a>\u001b[0m sns\u001b[39m.\u001b[39;49mregplot(x\u001b[39m=\u001b[39;49mdf[\u001b[39m\"\u001b[39;49m\u001b[39m총재활용량\u001b[39;49m\u001b[39m\"\u001b[39;49m], y\u001b[39m=\u001b[39;49mdf[\u001b[39m\"\u001b[39;49m\u001b[39m생활폐기물총발생량\u001b[39;49m\u001b[39m\"\u001b[39;49m], fit_reg\u001b[39m=\u001b[39;49m\u001b[39mTrue\u001b[39;49;00m, scatter_kws\u001b[39m=\u001b[39;49m{\u001b[39m\"\u001b[39;49m\u001b[39mcolor\u001b[39;49m\u001b[39m\"\u001b[39;49m:\u001b[39m'\u001b[39;49m\u001b[39mcornflowerblue\u001b[39;49m\u001b[39m'\u001b[39;49m,\u001b[39m\"\u001b[39;49m\u001b[39malpha\u001b[39;49m\u001b[39m\"\u001b[39;49m:\u001b[39m0.5\u001b[39;49m,\u001b[39m\"\u001b[39;49m\u001b[39ms\u001b[39;49m\u001b[39m\"\u001b[39;49m:\u001b[39m5\u001b[39;49m})\n\u001b[0;32m      <a href='vscode-notebook-cell:/c%3A/Users/kdh/Desktop/projects/test/src/EDA_hitagi.ipynb#ch0000015?line=6'>7</a>\u001b[0m plt\u001b[39m.\u001b[39mtitle(\u001b[39m'\u001b[39m\u001b[39m총재활용량 & 생활폐기물총발생량 상관관계\u001b[39m\u001b[39m'\u001b[39m)\n\u001b[0;32m      <a href='vscode-notebook-cell:/c%3A/Users/kdh/Desktop/projects/test/src/EDA_hitagi.ipynb#ch0000015?line=8'>9</a>\u001b[0m ax \u001b[39m=\u001b[39m plt\u001b[39m.\u001b[39mgca()\n",
      "File \u001b[1;32m~\\miniconda3\\envs\\proj\\lib\\site-packages\\seaborn\\_decorators.py:46\u001b[0m, in \u001b[0;36m_deprecate_positional_args.<locals>.inner_f\u001b[1;34m(*args, **kwargs)\u001b[0m\n\u001b[0;32m     <a href='file:///c%3A/Users/kdh/miniconda3/envs/proj/lib/site-packages/seaborn/_decorators.py?line=35'>36</a>\u001b[0m     warnings\u001b[39m.\u001b[39mwarn(\n\u001b[0;32m     <a href='file:///c%3A/Users/kdh/miniconda3/envs/proj/lib/site-packages/seaborn/_decorators.py?line=36'>37</a>\u001b[0m         \u001b[39m\"\u001b[39m\u001b[39mPass the following variable\u001b[39m\u001b[39m{}\u001b[39;00m\u001b[39m as \u001b[39m\u001b[39m{}\u001b[39;00m\u001b[39mkeyword arg\u001b[39m\u001b[39m{}\u001b[39;00m\u001b[39m: \u001b[39m\u001b[39m{}\u001b[39;00m\u001b[39m. \u001b[39m\u001b[39m\"\u001b[39m\n\u001b[0;32m     <a href='file:///c%3A/Users/kdh/miniconda3/envs/proj/lib/site-packages/seaborn/_decorators.py?line=37'>38</a>\u001b[0m         \u001b[39m\"\u001b[39m\u001b[39mFrom version 0.12, the only valid positional argument \u001b[39m\u001b[39m\"\u001b[39m\n\u001b[1;32m   (...)\u001b[0m\n\u001b[0;32m     <a href='file:///c%3A/Users/kdh/miniconda3/envs/proj/lib/site-packages/seaborn/_decorators.py?line=42'>43</a>\u001b[0m         \u001b[39mFutureWarning\u001b[39;00m\n\u001b[0;32m     <a href='file:///c%3A/Users/kdh/miniconda3/envs/proj/lib/site-packages/seaborn/_decorators.py?line=43'>44</a>\u001b[0m     )\n\u001b[0;32m     <a href='file:///c%3A/Users/kdh/miniconda3/envs/proj/lib/site-packages/seaborn/_decorators.py?line=44'>45</a>\u001b[0m kwargs\u001b[39m.\u001b[39mupdate({k: arg \u001b[39mfor\u001b[39;00m k, arg \u001b[39min\u001b[39;00m \u001b[39mzip\u001b[39m(sig\u001b[39m.\u001b[39mparameters, args)})\n\u001b[1;32m---> <a href='file:///c%3A/Users/kdh/miniconda3/envs/proj/lib/site-packages/seaborn/_decorators.py?line=45'>46</a>\u001b[0m \u001b[39mreturn\u001b[39;00m f(\u001b[39m*\u001b[39m\u001b[39m*\u001b[39mkwargs)\n",
      "File \u001b[1;32m~\\miniconda3\\envs\\proj\\lib\\site-packages\\seaborn\\regression.py:863\u001b[0m, in \u001b[0;36mregplot\u001b[1;34m(x, y, data, x_estimator, x_bins, x_ci, scatter, fit_reg, ci, n_boot, units, seed, order, logistic, lowess, robust, logx, x_partial, y_partial, truncate, dropna, x_jitter, y_jitter, label, color, marker, scatter_kws, line_kws, ax)\u001b[0m\n\u001b[0;32m    <a href='file:///c%3A/Users/kdh/miniconda3/envs/proj/lib/site-packages/seaborn/regression.py?line=860'>861</a>\u001b[0m scatter_kws[\u001b[39m\"\u001b[39m\u001b[39mmarker\u001b[39m\u001b[39m\"\u001b[39m] \u001b[39m=\u001b[39m marker\n\u001b[0;32m    <a href='file:///c%3A/Users/kdh/miniconda3/envs/proj/lib/site-packages/seaborn/regression.py?line=861'>862</a>\u001b[0m line_kws \u001b[39m=\u001b[39m {} \u001b[39mif\u001b[39;00m line_kws \u001b[39mis\u001b[39;00m \u001b[39mNone\u001b[39;00m \u001b[39melse\u001b[39;00m copy\u001b[39m.\u001b[39mcopy(line_kws)\n\u001b[1;32m--> <a href='file:///c%3A/Users/kdh/miniconda3/envs/proj/lib/site-packages/seaborn/regression.py?line=862'>863</a>\u001b[0m plotter\u001b[39m.\u001b[39;49mplot(ax, scatter_kws, line_kws)\n\u001b[0;32m    <a href='file:///c%3A/Users/kdh/miniconda3/envs/proj/lib/site-packages/seaborn/regression.py?line=863'>864</a>\u001b[0m \u001b[39mreturn\u001b[39;00m ax\n",
      "File \u001b[1;32m~\\miniconda3\\envs\\proj\\lib\\site-packages\\seaborn\\regression.py:370\u001b[0m, in \u001b[0;36m_RegressionPlotter.plot\u001b[1;34m(self, ax, scatter_kws, line_kws)\u001b[0m\n\u001b[0;32m    <a href='file:///c%3A/Users/kdh/miniconda3/envs/proj/lib/site-packages/seaborn/regression.py?line=366'>367</a>\u001b[0m     \u001b[39mself\u001b[39m\u001b[39m.\u001b[39mscatterplot(ax, scatter_kws)\n\u001b[0;32m    <a href='file:///c%3A/Users/kdh/miniconda3/envs/proj/lib/site-packages/seaborn/regression.py?line=368'>369</a>\u001b[0m \u001b[39mif\u001b[39;00m \u001b[39mself\u001b[39m\u001b[39m.\u001b[39mfit_reg:\n\u001b[1;32m--> <a href='file:///c%3A/Users/kdh/miniconda3/envs/proj/lib/site-packages/seaborn/regression.py?line=369'>370</a>\u001b[0m     \u001b[39mself\u001b[39;49m\u001b[39m.\u001b[39;49mlineplot(ax, line_kws)\n\u001b[0;32m    <a href='file:///c%3A/Users/kdh/miniconda3/envs/proj/lib/site-packages/seaborn/regression.py?line=371'>372</a>\u001b[0m \u001b[39m# Label the axes\u001b[39;00m\n\u001b[0;32m    <a href='file:///c%3A/Users/kdh/miniconda3/envs/proj/lib/site-packages/seaborn/regression.py?line=372'>373</a>\u001b[0m \u001b[39mif\u001b[39;00m \u001b[39mhasattr\u001b[39m(\u001b[39mself\u001b[39m\u001b[39m.\u001b[39mx, \u001b[39m\"\u001b[39m\u001b[39mname\u001b[39m\u001b[39m\"\u001b[39m):\n",
      "File \u001b[1;32m~\\miniconda3\\envs\\proj\\lib\\site-packages\\seaborn\\regression.py:413\u001b[0m, in \u001b[0;36m_RegressionPlotter.lineplot\u001b[1;34m(self, ax, kws)\u001b[0m\n\u001b[0;32m    <a href='file:///c%3A/Users/kdh/miniconda3/envs/proj/lib/site-packages/seaborn/regression.py?line=410'>411</a>\u001b[0m \u001b[39m\"\"\"Draw the model.\"\"\"\u001b[39;00m\n\u001b[0;32m    <a href='file:///c%3A/Users/kdh/miniconda3/envs/proj/lib/site-packages/seaborn/regression.py?line=411'>412</a>\u001b[0m \u001b[39m# Fit the regression model\u001b[39;00m\n\u001b[1;32m--> <a href='file:///c%3A/Users/kdh/miniconda3/envs/proj/lib/site-packages/seaborn/regression.py?line=412'>413</a>\u001b[0m grid, yhat, err_bands \u001b[39m=\u001b[39m \u001b[39mself\u001b[39;49m\u001b[39m.\u001b[39;49mfit_regression(ax)\n\u001b[0;32m    <a href='file:///c%3A/Users/kdh/miniconda3/envs/proj/lib/site-packages/seaborn/regression.py?line=413'>414</a>\u001b[0m edges \u001b[39m=\u001b[39m grid[\u001b[39m0\u001b[39m], grid[\u001b[39m-\u001b[39m\u001b[39m1\u001b[39m]\n\u001b[0;32m    <a href='file:///c%3A/Users/kdh/miniconda3/envs/proj/lib/site-packages/seaborn/regression.py?line=415'>416</a>\u001b[0m \u001b[39m# Get set default aesthetics\u001b[39;00m\n",
      "File \u001b[1;32m~\\miniconda3\\envs\\proj\\lib\\site-packages\\seaborn\\regression.py:201\u001b[0m, in \u001b[0;36m_RegressionPlotter.fit_regression\u001b[1;34m(self, ax, x_range, grid)\u001b[0m\n\u001b[0;32m    <a href='file:///c%3A/Users/kdh/miniconda3/envs/proj/lib/site-packages/seaborn/regression.py?line=198'>199</a>\u001b[0m         \u001b[39melse\u001b[39;00m:\n\u001b[0;32m    <a href='file:///c%3A/Users/kdh/miniconda3/envs/proj/lib/site-packages/seaborn/regression.py?line=199'>200</a>\u001b[0m             x_min, x_max \u001b[39m=\u001b[39m ax\u001b[39m.\u001b[39mget_xlim()\n\u001b[1;32m--> <a href='file:///c%3A/Users/kdh/miniconda3/envs/proj/lib/site-packages/seaborn/regression.py?line=200'>201</a>\u001b[0m     grid \u001b[39m=\u001b[39m np\u001b[39m.\u001b[39;49mlinspace(x_min, x_max, \u001b[39m100\u001b[39;49m)\n\u001b[0;32m    <a href='file:///c%3A/Users/kdh/miniconda3/envs/proj/lib/site-packages/seaborn/regression.py?line=201'>202</a>\u001b[0m ci \u001b[39m=\u001b[39m \u001b[39mself\u001b[39m\u001b[39m.\u001b[39mci\n\u001b[0;32m    <a href='file:///c%3A/Users/kdh/miniconda3/envs/proj/lib/site-packages/seaborn/regression.py?line=203'>204</a>\u001b[0m \u001b[39m# Fit the regression\u001b[39;00m\n",
      "File \u001b[1;32m<__array_function__ internals>:5\u001b[0m, in \u001b[0;36mlinspace\u001b[1;34m(*args, **kwargs)\u001b[0m\n",
      "File \u001b[1;32m~\\miniconda3\\envs\\proj\\lib\\site-packages\\numpy\\core\\function_base.py:127\u001b[0m, in \u001b[0;36mlinspace\u001b[1;34m(start, stop, num, endpoint, retstep, dtype, axis)\u001b[0m\n\u001b[0;32m    <a href='file:///c%3A/Users/kdh/miniconda3/envs/proj/lib/site-packages/numpy/core/function_base.py?line=122'>123</a>\u001b[0m div \u001b[39m=\u001b[39m (num \u001b[39m-\u001b[39m \u001b[39m1\u001b[39m) \u001b[39mif\u001b[39;00m endpoint \u001b[39melse\u001b[39;00m num\n\u001b[0;32m    <a href='file:///c%3A/Users/kdh/miniconda3/envs/proj/lib/site-packages/numpy/core/function_base.py?line=124'>125</a>\u001b[0m \u001b[39m# Convert float/complex array scalars to float, gh-3504\u001b[39;00m\n\u001b[0;32m    <a href='file:///c%3A/Users/kdh/miniconda3/envs/proj/lib/site-packages/numpy/core/function_base.py?line=125'>126</a>\u001b[0m \u001b[39m# and make sure one can use variables that have an __array_interface__, gh-6634\u001b[39;00m\n\u001b[1;32m--> <a href='file:///c%3A/Users/kdh/miniconda3/envs/proj/lib/site-packages/numpy/core/function_base.py?line=126'>127</a>\u001b[0m start \u001b[39m=\u001b[39m asanyarray(start) \u001b[39m*\u001b[39;49m \u001b[39m1.0\u001b[39;49m\n\u001b[0;32m    <a href='file:///c%3A/Users/kdh/miniconda3/envs/proj/lib/site-packages/numpy/core/function_base.py?line=127'>128</a>\u001b[0m stop  \u001b[39m=\u001b[39m asanyarray(stop)  \u001b[39m*\u001b[39m \u001b[39m1.0\u001b[39m\n\u001b[0;32m    <a href='file:///c%3A/Users/kdh/miniconda3/envs/proj/lib/site-packages/numpy/core/function_base.py?line=129'>130</a>\u001b[0m dt \u001b[39m=\u001b[39m result_type(start, stop, \u001b[39mfloat\u001b[39m(num))\n",
      "\u001b[1;31mUFuncTypeError\u001b[0m: ufunc 'multiply' did not contain a loop with signature matching types (dtype('<U1'), dtype('float64')) -> None"
     ]
    },
    {
     "data": {
      "image/png": "[encoded data removed]",
      "text/plain": [
       "<Figure size 432x432 with 1 Axes>"
      ]
     },
     "metadata": {
      "needs_background": "light"
     },
     "output_type": "display_data"
    }
   ],
   "source": [
    "# 데이터 분포\n",
    "\n",
    "plt.figure(figsize=(6, 6))\n",
    "\n",
    "sns.regplot(x=df[\"총재활용량\"], y=df[\"생활폐기물총발생량\"], fit_reg=True, scatter_kws={\"color\":'cornflowerblue',\"alpha\":0.5,\"s\":5})\n",
    "\n",
    "plt.title('총재활용량 & 생활폐기물총발생량 상관관계')\n",
    "\n",
    "ax = plt.gca()\n",
    "ax.spines['right'].set_visible(False)\n",
    "ax.spines['top'].set_visible(False)\n",
    "ax.spines['left'].set_visible(False)\n",
    "ax.spines['bottom'].set_visible(False)\n",
    "plt.tick_params(bottom=False)\n",
    "plt.tick_params(left=False)\n",
    "plt.show()"
   ]
  },
  {
   "cell_type": "code",
   "execution_count": 70,
   "metadata": {},
   "outputs": [
    {
     "data": {
      "text/html": [
       "<div>\n",
       "<style scoped>\n",
       "    .dataframe tbody tr th:only-of-type {\n",
       "        vertical-align: middle;\n",
       "    }\n",
       "\n",
       "    .dataframe tbody tr th {\n",
       "        vertical-align: top;\n",
       "    }\n",
       "\n",
       "    .dataframe thead th {\n",
       "        text-align: right;\n",
       "    }\n",
       "</style>\n",
       "<table border=\"1\" class=\"dataframe\">\n",
       "  <thead>\n",
       "    <tr style=\"text-align: right;\">\n",
       "      <th></th>\n",
       "      <th>행정구역별(1)</th>\n",
       "      <th>행정구역별(2)</th>\n",
       "      <th>year</th>\n",
       "      <th>일반폐기물재활용률</th>\n",
       "      <th>총재활용량</th>\n",
       "      <th>생활폐기물총발생량</th>\n",
       "    </tr>\n",
       "  </thead>\n",
       "  <tbody>\n",
       "    <tr>\n",
       "      <th>0</th>\n",
       "      <td>서울특별시</td>\n",
       "      <td>종로구</td>\n",
       "      <td>2010</td>\n",
       "      <td>65.6</td>\n",
       "      <td>288.0</td>\n",
       "      <td>439.0</td>\n",
       "    </tr>\n",
       "    <tr>\n",
       "      <th>1</th>\n",
       "      <td>서울특별시</td>\n",
       "      <td>중구</td>\n",
       "      <td>2010</td>\n",
       "      <td>54.5</td>\n",
       "      <td>288.4</td>\n",
       "      <td>529.2</td>\n",
       "    </tr>\n",
       "    <tr>\n",
       "      <th>2</th>\n",
       "      <td>서울특별시</td>\n",
       "      <td>용산구</td>\n",
       "      <td>2010</td>\n",
       "      <td>88.8</td>\n",
       "      <td>180.8</td>\n",
       "      <td>203.7</td>\n",
       "    </tr>\n",
       "    <tr>\n",
       "      <th>3</th>\n",
       "      <td>서울특별시</td>\n",
       "      <td>성동구</td>\n",
       "      <td>2010</td>\n",
       "      <td>62.8</td>\n",
       "      <td>177.2</td>\n",
       "      <td>282.0</td>\n",
       "    </tr>\n",
       "    <tr>\n",
       "      <th>4</th>\n",
       "      <td>서울특별시</td>\n",
       "      <td>광진구</td>\n",
       "      <td>2010</td>\n",
       "      <td>73.6</td>\n",
       "      <td>288.6</td>\n",
       "      <td>392.3</td>\n",
       "    </tr>\n",
       "    <tr>\n",
       "      <th>...</th>\n",
       "      <td>...</td>\n",
       "      <td>...</td>\n",
       "      <td>...</td>\n",
       "      <td>...</td>\n",
       "      <td>...</td>\n",
       "      <td>...</td>\n",
       "    </tr>\n",
       "    <tr>\n",
       "      <th>229</th>\n",
       "      <td>경상남도</td>\n",
       "      <td>함양군</td>\n",
       "      <td>2010</td>\n",
       "      <td>23.4</td>\n",
       "      <td>6.4</td>\n",
       "      <td>27.3</td>\n",
       "    </tr>\n",
       "    <tr>\n",
       "      <th>230</th>\n",
       "      <td>경상남도</td>\n",
       "      <td>거창군</td>\n",
       "      <td>2010</td>\n",
       "      <td>29.1</td>\n",
       "      <td>14.7</td>\n",
       "      <td>50.5</td>\n",
       "    </tr>\n",
       "    <tr>\n",
       "      <th>231</th>\n",
       "      <td>경상남도</td>\n",
       "      <td>합천군</td>\n",
       "      <td>2010</td>\n",
       "      <td>45.9</td>\n",
       "      <td>16.2</td>\n",
       "      <td>35.3</td>\n",
       "    </tr>\n",
       "    <tr>\n",
       "      <th>232</th>\n",
       "      <td>제주특별자치도</td>\n",
       "      <td>제주시</td>\n",
       "      <td>2010</td>\n",
       "      <td>57.7</td>\n",
       "      <td>272.0</td>\n",
       "      <td>471.4</td>\n",
       "    </tr>\n",
       "    <tr>\n",
       "      <th>233</th>\n",
       "      <td>제주특별자치도</td>\n",
       "      <td>서귀포시</td>\n",
       "      <td>2010</td>\n",
       "      <td>39.1</td>\n",
       "      <td>65.5</td>\n",
       "      <td>167.4</td>\n",
       "    </tr>\n",
       "  </tbody>\n",
       "</table>\n",
       "<p>234 rows × 6 columns</p>\n",
       "</div>"
      ],
      "text/plain": [
       "    행정구역별(1) 행정구역별(2)  year  일반폐기물재활용률  총재활용량  생활폐기물총발생량\n",
       "0      서울특별시      종로구  2010       65.6  288.0      439.0\n",
       "1      서울특별시       중구  2010       54.5  288.4      529.2\n",
       "2      서울특별시      용산구  2010       88.8  180.8      203.7\n",
       "3      서울특별시      성동구  2010       62.8  177.2      282.0\n",
       "4      서울특별시      광진구  2010       73.6  288.6      392.3\n",
       "..       ...      ...   ...        ...    ...        ...\n",
       "229     경상남도      함양군  2010       23.4    6.4       27.3\n",
       "230     경상남도      거창군  2010       29.1   14.7       50.5\n",
       "231     경상남도      합천군  2010       45.9   16.2       35.3\n",
       "232  제주특별자치도      제주시  2010       57.7  272.0      471.4\n",
       "233  제주특별자치도     서귀포시  2010       39.1   65.5      167.4\n",
       "\n",
       "[234 rows x 6 columns]"
      ]
     },
     "execution_count": 70,
     "metadata": {},
     "output_type": "execute_result"
    }
   ],
   "source": [
    "df_2011 = df[df['year']==2010]\n",
    "df_2011"
   ]
  },
  {
   "cell_type": "code",
   "execution_count": 73,
   "metadata": {},
   "outputs": [
    {
     "data": {
      "text/plain": [
       "행정구역별(1)\n",
       "강원도        49.333333\n",
       "경기도        58.703125\n",
       "경상남도       46.050000\n",
       "경상북도       43.078261\n",
       "광주광역시      63.540000\n",
       "대구광역시      55.750000\n",
       "대전광역시      64.180000\n",
       "부산광역시      66.618750\n",
       "서울특별시      65.252000\n",
       "울산광역시      67.640000\n",
       "인천광역시      58.600000\n",
       "전라남도       42.154545\n",
       "전라북도       53.928571\n",
       "제주특별자치도    48.400000\n",
       "충청남도       46.700000\n",
       "충청북도       46.384615\n",
       "Name: 일반폐기물재활용률, dtype: float64"
      ]
     },
     "execution_count": 73,
     "metadata": {},
     "output_type": "execute_result"
    }
   ],
   "source": [
    "df_2011.groupby(['행정구역별(1)'])['일반폐기물재활용률'].mean()"
   ]
  },
  {
   "cell_type": "code",
   "execution_count": 68,
   "metadata": {},
   "outputs": [
    {
     "data": {
      "image/png": "[encoded data removed]",
      "text/plain": [
       "<Figure size 720x504 with 1 Axes>"
      ]
     },
     "metadata": {
      "needs_background": "light"
     },
     "output_type": "display_data"
    }
   ],
   "source": [
    "# Set the figure size\n",
    "plt.figure(figsize=(10, 7))\n",
    "\n",
    "\n",
    "# plot a bar chart\n",
    "plot1 = plt.bar(df_2011['행정구역별(1)'], df_2011['일반폐기물재활용률'], color='#69b3a2');\n",
    "\n",
    "for value in plot1:\n",
    "    height = value.get_height()\n",
    "    plt.text(value.get_x() + value.get_width()/2.,\n",
    "             0.95*height,'%d' % int(height), ha='center', va='bottom')"
   ]
  },
  {
   "cell_type": "code",
   "execution_count": null,
   "metadata": {},
   "outputs": [],
   "source": [
    "# 대분류 분포 그래프\n",
    "\n",
    "digit_1_count = train.groupby(['digit_1'], as_index=False)['AI_id'].count()\n",
    "digit_1_count.replace(digit_1_dict, inplace=True)\n",
    "\n",
    "# Set the figure size\n",
    "plot1 = plt.figure(figsize=(10, 5))\n",
    "\n",
    "# plot a bar chart\n",
    "sns.barplot(\n",
    "    x = 'AI_id', y = 'digit_1',\n",
    "    data = df,\n",
    "    estimator=sum, \n",
    "    ci=None, \n",
    "    order = list(digit_1_count.sort_values('AI_id', ascending=False)['digit_1']),\n",
    "    color='#69b3a2');\n",
    "\n",
    "# Hide spines and ticks\n",
    "ax = plt.gca()\n",
    "ax.spines['right'].set_visible(False)\n",
    "ax.spines['top'].set_visible(False)\n",
    "ax.spines['left'].set_visible(False)\n",
    "ax.spines['bottom'].set_visible(False)\n",
    "plt.tick_params(bottom=False)\n",
    "plt.tick_params(left=False)\n",
    "plt.xlabel(\"\")\n",
    "plt.ylabel(\"\")\n",
    "\n",
    "plt.show()"
   ]
  }
 ],
 "metadata": {
  "interpreter": {
   "hash": "4d2e1faf8c6d58f681ff2a85f4426f4e76407888f7e70def260924171f99064b"
  },
  "kernelspec": {
   "display_name": "Python 3.9.7 64-bit",
   "language": "python",
   "name": "python3"
  },
  "language_info": {
   "codemirror_mode": {
    "name": "ipython",
    "version": 3
   },
   "file_extension": ".py",
   "mimetype": "text/x-python",
   "name": "python",
   "nbconvert_exporter": "python",
   "pygments_lexer": "ipython3",
   "version": "3.9.12"
  },
  "orig_nbformat": 4
 },
 "nbformat": 4,
 "nbformat_minor": 2
}
