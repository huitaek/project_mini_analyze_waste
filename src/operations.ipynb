{
 "cells": [
  {
   "cell_type": "markdown",
   "metadata": {},
   "source": [
    "Setting"
   ]
  },
  {
   "cell_type": "code",
   "execution_count": 1,
   "metadata": {},
   "outputs": [],
   "source": [
    "import psycopg2\n",
    "import pandas as pd\n",
    "import numpy as np\n",
    "\n",
    "from libs.lib import get_insert_query\n",
    "from libs.db import population_do_month,population_gu_month,normal_waste_recycle_ratio,life_waste_per_population,recycle_corp_state,life_waste_occurence_status,waste_process_subject_status"
   ]
  },
  {
   "cell_type": "code",
   "execution_count": 2,
   "metadata": {},
   "outputs": [],
   "source": [
    "options = {\n",
    "    \"host\":\"172.20.57.118\", # in local network\n",
    "    \"dbname\":\"project\", # already made\n",
    "    \"user\":\"remote\", # \n",
    "    \"password\":'remote',\n",
    "    \"port\":\"5432\"\n",
    "}"
   ]
  },
  {
   "cell_type": "markdown",
   "metadata": {},
   "source": [
    "Connect"
   ]
  },
  {
   "cell_type": "code",
   "execution_count": 3,
   "metadata": {},
   "outputs": [],
   "source": [
    "connection = psycopg2.connect(**options)\n",
    "connection.autocommit = True\n",
    "\n",
    "cursor = connection.cursor()"
   ]
  },
  {
   "cell_type": "markdown",
   "metadata": {},
   "source": [
    "Create Table"
   ]
  },
  {
   "cell_type": "code",
   "execution_count": 5,
   "metadata": {},
   "outputs": [],
   "source": [
    "# cursor.execute(open(\"../sql/ddl.sql\", \"r\").read()) # 1회만 실행"
   ]
  },
  {
   "cell_type": "markdown",
   "metadata": {},
   "source": [
    "Insert Data"
   ]
  },
  {
   "cell_type": "code",
   "execution_count": 7,
   "metadata": {},
   "outputs": [
    {
     "ename": "SyntaxError",
     "evalue": "INSERT has more expressions than target columns\nLINE 1: ...혼합 배출','가연성','음식물류폐기물','서울특별시',10.9),(1,2...\n                                                             ^\n",
     "output_type": "error",
     "traceback": [
      "\u001b[1;31m---------------------------------------------------------------------------\u001b[0m",
      "\u001b[1;31mSyntaxError\u001b[0m                               Traceback (most recent call last)",
      "\u001b[1;32mc:\\Users\\kdh\\Desktop\\projects\\test\\src\\operations.ipynb Cell 9'\u001b[0m in \u001b[0;36m<cell line: 6>\u001b[1;34m()\u001b[0m\n\u001b[0;32m      <a href='vscode-notebook-cell:/c%3A/Users/kdh/Desktop/projects/test/src/operations.ipynb#ch0000012?line=3'>4</a>\u001b[0m cursor\u001b[39m.\u001b[39mexecute(get_insert_query(recycle_corp_state))\n\u001b[0;32m      <a href='vscode-notebook-cell:/c%3A/Users/kdh/Desktop/projects/test/src/operations.ipynb#ch0000012?line=4'>5</a>\u001b[0m cursor\u001b[39m.\u001b[39mexecute(get_insert_query(life_waste_per_population))\n\u001b[1;32m----> <a href='vscode-notebook-cell:/c%3A/Users/kdh/Desktop/projects/test/src/operations.ipynb#ch0000012?line=5'>6</a>\u001b[0m cursor\u001b[39m.\u001b[39;49mexecute(get_insert_query(life_waste_occurence_status))\n\u001b[0;32m      <a href='vscode-notebook-cell:/c%3A/Users/kdh/Desktop/projects/test/src/operations.ipynb#ch0000012?line=6'>7</a>\u001b[0m cursor\u001b[39m.\u001b[39mexecute(get_insert_query(waste_process_subject_status))\n",
      "\u001b[1;31mSyntaxError\u001b[0m: INSERT has more expressions than target columns\nLINE 1: ...혼합 배출','가연성','음식물류폐기물','서울특별시',10.9),(1,2...\n                                                             ^\n"
     ]
    }
   ],
   "source": [
    "cursor.execute(get_insert_query(population_do_month))\n",
    "cursor.execute(get_insert_query(population_gu_month))\n",
    "cursor.execute(get_insert_query(normal_waste_recycle_ratio))\n",
    "cursor.execute(get_insert_query(recycle_corp_state))\n",
    "cursor.execute(get_insert_query(life_waste_per_population))\n",
    "cursor.execute(get_insert_query(life_waste_occurence_status))\n",
    "cursor.execute(get_insert_query(waste_process_subject_status))"
   ]
  },
  {
   "cell_type": "markdown",
   "metadata": {},
   "source": []
  },
  {
   "cell_type": "code",
   "execution_count": null,
   "metadata": {},
   "outputs": [],
   "source": []
  }
 ],
 "metadata": {
  "interpreter": {
   "hash": "ddc820cf34ad67fe8490fc2f2da97ffc2731598be58de02108267b0519cec5ae"
  },
  "kernelspec": {
   "display_name": "Python 3.9.12 ('proj')",
   "language": "python",
   "name": "python3"
  },
  "language_info": {
   "codemirror_mode": {
    "name": "ipython",
    "version": 3
   },
   "file_extension": ".py",
   "mimetype": "text/x-python",
   "name": "python",
   "nbconvert_exporter": "python",
   "pygments_lexer": "ipython3",
   "version": "3.9.12"
  },
  "orig_nbformat": 4
 },
 "nbformat": 4,
 "nbformat_minor": 2
}
