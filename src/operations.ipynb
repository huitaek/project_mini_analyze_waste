{
 "cells": [
  {
   "cell_type": "markdown",
   "metadata": {},
   "source": [
    "Setting"
   ]
  },
  {
   "cell_type": "code",
   "execution_count": 1,
   "metadata": {},
   "outputs": [],
   "source": [
    "import psycopg2\n",
    "import pandas as pd\n",
    "import numpy as np\n",
    "\n",
    "from libs.lib import get_insert_query\n",
    "\n",
    "import libs.db as schema"
   ]
  },
  {
   "cell_type": "code",
   "execution_count": 2,
   "metadata": {},
   "outputs": [],
   "source": [
    "# options = {\n",
    "#     \"host\":\"172.20.57.118\", # in local network\n",
    "#     \"dbname\":\"project\", # already made\n",
    "#     \"user\":\"remote\", # \n",
    "#     \"password\":'remote',\n",
    "#     \"port\":\"5432\"\n",
    "# }\n",
    "\n",
    "# for local\n",
    "options = {\n",
    "    \"host\":\"localhost\", # in local network\n",
    "    \"dbname\":\"postgres\", # already made\n",
    "    \"user\":\"postgres\", \n",
    "    \"password\":'local',\n",
    "    \"port\":\"5432\"\n",
    "}"
   ]
  },
  {
   "cell_type": "markdown",
   "metadata": {},
   "source": [
    "Connect"
   ]
  },
  {
   "cell_type": "code",
   "execution_count": 3,
   "metadata": {},
   "outputs": [],
   "source": [
    "connection = psycopg2.connect(**options)\n",
    "connection.autocommit = True\n",
    "\n",
    "cursor = connection.cursor()"
   ]
  },
  {
   "cell_type": "markdown",
   "metadata": {},
   "source": [
    "Create Table"
   ]
  },
  {
   "cell_type": "code",
   "execution_count": 5,
   "metadata": {},
   "outputs": [],
   "source": [
    "cursor.execute(open(\"../sql/ddl.sql\", \"r\").read()) # 1회만 실행"
   ]
  },
  {
   "cell_type": "markdown",
   "metadata": {},
   "source": [
    "Insert Data"
   ]
  },
  {
   "cell_type": "code",
   "execution_count": 7,
   "metadata": {},
   "outputs": [],
   "source": [
    "cursor.execute(get_insert_query(schema.population_gu_month))\n",
    "cursor.execute(get_insert_query(schema.population_do_month))\n",
    "cursor.execute(get_insert_query(schema.normal_waste_recycle_ratio))\n",
    "cursor.execute(get_insert_query(schema.life_waste_per_population))\n",
    "cursor.execute(get_insert_query(schema.municipality_waste_facility_landfill))\n",
    "cursor.execute(get_insert_query(schema.municipality_waste_facility_cremation))\n",
    "cursor.execute(get_insert_query(schema.waste_recycle_ratio))\n",
    "cursor.execute(get_insert_query(schema.recycle_corp_state))\n",
    "cursor.execute(get_insert_query(schema.life_waste_occurence_status))\n",
    "cursor.execute(get_insert_query(schema.waste_process_subject_status))"
   ]
  },
  {
   "cell_type": "markdown",
   "metadata": {},
   "source": []
  },
  {
   "cell_type": "code",
   "execution_count": null,
   "metadata": {},
   "outputs": [],
   "source": []
  }
 ],
 "metadata": {
  "interpreter": {
   "hash": "ddc820cf34ad67fe8490fc2f2da97ffc2731598be58de02108267b0519cec5ae"
  },
  "kernelspec": {
   "display_name": "Python 3.9.12 ('proj')",
   "language": "python",
   "name": "python3"
  },
  "language_info": {
   "codemirror_mode": {
    "name": "ipython",
    "version": 3
   },
   "file_extension": ".py",
   "mimetype": "text/x-python",
   "name": "python",
   "nbconvert_exporter": "python",
   "pygments_lexer": "ipython3",
   "version": "3.9.12"
  },
  "orig_nbformat": 4
 },
 "nbformat": 4,
 "nbformat_minor": 2
}
