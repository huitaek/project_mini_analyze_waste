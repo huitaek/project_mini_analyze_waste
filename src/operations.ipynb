{
 "cells": [
  {
   "cell_type": "markdown",
   "metadata": {},
   "source": [
    "Setting"
   ]
  },
  {
   "cell_type": "code",
   "execution_count": 1,
   "metadata": {},
   "outputs": [],
   "source": [
    "import psycopg2\n",
    "import pandas as pd\n",
    "import numpy as np\n",
    "\n",
    "from libs.lib import get_insert_query\n",
    "\n",
    "import libs.db as schema"
   ]
  },
  {
   "cell_type": "code",
   "execution_count": 2,
   "metadata": {},
   "outputs": [],
   "source": [
    "# options = {\n",
    "#     \"host\":\"172.20.57.118\", # in local network\n",
    "#     \"dbname\":\"project\", # already made\n",
    "#     \"user\":\"remote\", # \n",
    "#     \"password\":'remote',\n",
    "#     \"port\":\"5432\"\n",
    "# }\n",
    "\n",
    "# for local\n",
    "options = {\n",
    "    \"host\":\"localhost\", # in local network\n",
    "    \"dbname\":\"postgres\", # already made\n",
    "    \"user\":\"postgres\", \n",
    "    \"password\":'local',\n",
    "    \"port\":\"5432\"\n",
    "}"
   ]
  },
  {
   "cell_type": "markdown",
   "metadata": {},
   "source": [
    "Connect"
   ]
  },
  {
   "cell_type": "code",
   "execution_count": 3,
   "metadata": {},
   "outputs": [],
   "source": [
    "connection = psycopg2.connect(**options)\n",
    "connection.autocommit = True\n",
    "\n",
    "cursor = connection.cursor()"
   ]
  },
  {
   "cell_type": "markdown",
   "metadata": {},
   "source": [
    "Create Table"
   ]
  },
  {
   "cell_type": "code",
   "execution_count": 5,
   "metadata": {},
   "outputs": [],
   "source": [
    "cursor.execute(open(\"../sql/ddl.sql\", \"r\").read()) # 1회만 실행"
   ]
  },
  {
   "cell_type": "markdown",
   "metadata": {},
   "source": [
    "Insert Data"
   ]
  },
  {
   "cell_type": "code",
   "execution_count": 6,
   "metadata": {},
   "outputs": [
    {
     "ename": "InvalidTextRepresentation",
     "evalue": "invalid input syntax for type double precision: \"-\"\nLINE 1: ...0.0','2.2'),(2010,'지방자치단체','세종특별자치시','-','-','-...\n                                                             ^\n",
     "output_type": "error",
     "traceback": [
      "\u001b[1;31m---------------------------------------------------------------------------\u001b[0m",
      "\u001b[1;31mInvalidTextRepresentation\u001b[0m                 Traceback (most recent call last)",
      "\u001b[1;32mc:\\Users\\kdh\\Desktop\\projects\\test\\src\\operations.ipynb Cell 9'\u001b[0m in \u001b[0;36m<cell line: 10>\u001b[1;34m()\u001b[0m\n\u001b[0;32m      <a href='vscode-notebook-cell:/c%3A/Users/kdh/Desktop/projects/test/src/operations.ipynb#ch0000008?line=7'>8</a>\u001b[0m cursor\u001b[39m.\u001b[39mexecute(get_insert_query(schema\u001b[39m.\u001b[39mrecycle_corp_state))\n\u001b[0;32m      <a href='vscode-notebook-cell:/c%3A/Users/kdh/Desktop/projects/test/src/operations.ipynb#ch0000008?line=8'>9</a>\u001b[0m cursor\u001b[39m.\u001b[39mexecute(get_insert_query(schema\u001b[39m.\u001b[39mlife_waste_occurence_status))\n\u001b[1;32m---> <a href='vscode-notebook-cell:/c%3A/Users/kdh/Desktop/projects/test/src/operations.ipynb#ch0000008?line=9'>10</a>\u001b[0m cursor\u001b[39m.\u001b[39;49mexecute(get_insert_query(schema\u001b[39m.\u001b[39;49mwaste_process_subject_status))\n",
      "\u001b[1;31mInvalidTextRepresentation\u001b[0m: invalid input syntax for type double precision: \"-\"\nLINE 1: ...0.0','2.2'),(2010,'지방자치단체','세종특별자치시','-','-','-...\n                                                             ^\n"
     ]
    }
   ],
   "source": [
    "cursor.execute(get_insert_query(schema.population_gu_month))\n",
    "cursor.execute(get_insert_query(schema.population_do_month))\n",
    "cursor.execute(get_insert_query(schema.normal_waste_recycle_ratio))\n",
    "cursor.execute(get_insert_query(schema.life_waste_per_population))\n",
    "cursor.execute(get_insert_query(schema.municipality_waste_facility_landfill))\n",
    "cursor.execute(get_insert_query(schema.municipality_waste_facility_cremation))\n",
    "cursor.execute(get_insert_query(schema.waste_recycle_ratio))\n",
    "cursor.execute(get_insert_query(schema.recycle_corp_state))\n",
    "cursor.execute(get_insert_query(schema.life_waste_occurence_status))\n",
    "cursor.execute(get_insert_query(schema.waste_process_subject_status))"
   ]
  },
  {
   "cell_type": "markdown",
   "metadata": {},
   "source": []
  },
  {
   "cell_type": "code",
   "execution_count": null,
   "metadata": {},
   "outputs": [],
   "source": []
  }
 ],
 "metadata": {
  "interpreter": {
   "hash": "ddc820cf34ad67fe8490fc2f2da97ffc2731598be58de02108267b0519cec5ae"
  },
  "kernelspec": {
   "display_name": "Python 3.9.12 ('proj')",
   "language": "python",
   "name": "python3"
  },
  "language_info": {
   "codemirror_mode": {
    "name": "ipython",
    "version": 3
   },
   "file_extension": ".py",
   "mimetype": "text/x-python",
   "name": "python",
   "nbconvert_exporter": "python",
   "pygments_lexer": "ipython3",
   "version": "3.9.12"
  },
  "orig_nbformat": 4
 },
 "nbformat": 4,
 "nbformat_minor": 2
}
