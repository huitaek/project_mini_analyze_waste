{
 "cells": [
  {
   "cell_type": "code",
   "execution_count": 2,
   "metadata": {},
   "outputs": [],
   "source": [
    "import pandas as pd\n",
    "from libs.lib import get_file_dir"
   ]
  },
  {
   "cell_type": "code",
   "execution_count": 11,
   "metadata": {},
   "outputs": [
    {
     "name": "stdout",
     "output_type": "stream",
     "text": [
      "Index(['Unnamed: 0', '년도', '종류1', '지역', '매립', '소각', '재활용'], dtype='object')\n"
     ]
    }
   ],
   "source": [
    "# 폐기물_처리주체별_처리현황_생활계폐기물_생활폐기물_사업장생활계폐기물(10-19)\n",
    "path = get_file_dir('refined','폐기물_처리주체별_처리현황_생활계폐기물_생활폐기물_사업장생활계폐기물(10-19).csv')\n",
    "df = pd.read_csv(path)\n",
    "\n",
    "df.replace('-','0').to_csv(path,index=False)"
   ]
  },
  {
   "cell_type": "code",
   "execution_count": 12,
   "metadata": {},
   "outputs": [],
   "source": [
    "path = get_file_dir('refined','폐기물_발생현황_생활계폐기물_생활폐기물_사업장생활계폐기물(10-19).csv')\n",
    "df = pd.read_csv(path)\n",
    "\n",
    "df.replace('-','0').to_csv(path,index=False)"
   ]
  },
  {
   "cell_type": "code",
   "execution_count": 2,
   "metadata": {},
   "outputs": [],
   "source": [
    "path = get_file_dir('refined','지방자치단체_폐기물_처리시설_현황_매립시설(10-19).csv')\n",
    "df = pd.read_csv(path)\n",
    "\n",
    "df.replace('-','0').to_csv(path,index=False)"
   ]
  },
  {
   "cell_type": "code",
   "execution_count": 3,
   "metadata": {},
   "outputs": [],
   "source": [
    "path = get_file_dir('refined','지방자치단체_폐기물_처리시설_현황_소각시설(10-19).csv')\n",
    "df = pd.read_csv(path)\n",
    "\n",
    "df.replace('-','0').to_csv(path,index=False)"
   ]
  },
  {
   "cell_type": "code",
   "execution_count": 8,
   "metadata": {},
   "outputs": [],
   "source": [
    "path = get_file_dir('refined','지방자치단체_폐기물_처리시설_현황_매립시설(10-19).csv')\n",
    "df = pd.read_csv(path)\n",
    "\n",
    "install = list(filter(lambda x:x.find('설치비')>=0,df.columns.tolist()))\n",
    "\n",
    "df['설치비'] = df[install].sum(axis=1)\n",
    "df.drop(axis=1,labels=install).to_csv(get_file_dir('refined','지방자치단체_폐기물_처리시설_현황_매립시설(10-19)_설치비통합.csv'),index=False)"
   ]
  },
  {
   "cell_type": "code",
   "execution_count": 7,
   "metadata": {},
   "outputs": [
    {
     "data": {
      "text/plain": [
       "Index(['시도', '시설 수', '일별 시설용량(톤)', '1일평균가동시간', '처리량 (톤)', '설치비 (국비)',\n",
       "       '설치비 (지방비)', '설치비 (기타)', '연간유지관리비', '관리인원', '외부공급(열)', '외부공급(전력)',\n",
       "       '자체사용(열)', '자체사용(전력)', '연도', '설치비'],\n",
       "      dtype='object')"
      ]
     },
     "execution_count": 7,
     "metadata": {},
     "output_type": "execute_result"
    }
   ],
   "source": [
    "path = get_file_dir('refined','지방자치단체_폐기물_처리시설_현황_소각시설(10-19).csv')\n",
    "df = pd.read_csv(path)\n",
    "\n",
    "install = list(filter(lambda x:x.find('설치비')>=0,df.columns.tolist()))\n",
    "\n",
    "df['설치비'] = df[install].sum(axis=1)\n",
    "df.drop(axis=1,labels=install).to_csv(get_file_dir('refined','지방자치단체_폐기물_처리시설_현황_소각시설(10-19)_설치비통합.csv'),index=False)"
   ]
  },
  {
   "cell_type": "code",
   "execution_count": 10,
   "metadata": {},
   "outputs": [],
   "source": [
    "path = get_file_dir('refined','폐기물 재활용률(09-18).csv')\n",
    "df = pd.read_csv(path)\n",
    "\n",
    "df.fillna(0).to_csv(path,index=False)"
   ]
  },
  {
   "cell_type": "code",
   "execution_count": 11,
   "metadata": {},
   "outputs": [],
   "source": [
    "path = get_file_dir('refined','폐기물_발생현황_생활계폐기물_생활폐기물_사업장생활계폐기물(10-19).csv')\n",
    "df = pd.read_csv(path)\n",
    "\n",
    "df.replace('-','0').to_csv(path,index=False)"
   ]
  },
  {
   "cell_type": "code",
   "execution_count": 12,
   "metadata": {},
   "outputs": [],
   "source": [
    "path = get_file_dir('refined','폐기물_처리주체별_처리현황_생활계폐기물_생활폐기물_사업장생활계폐기물(10-19).csv')\n",
    "df = pd.read_csv(path)\n",
    "\n",
    "df.replace('-','0').to_csv(path,index=False)"
   ]
  },
  {
   "cell_type": "code",
   "execution_count": 16,
   "metadata": {},
   "outputs": [],
   "source": [
    "path = get_file_dir('refined','api3.csv')\n",
    "df = pd.read_csv(path)\n",
    "df.drop(axis=1,labels=['Unnamed: 0'],inplace=True)\n",
    "df.to_csv(path,index=False)"
   ]
  }
 ],
 "metadata": {
  "interpreter": {
   "hash": "ddc820cf34ad67fe8490fc2f2da97ffc2731598be58de02108267b0519cec5ae"
  },
  "kernelspec": {
   "display_name": "Python 3.9.12 ('proj')",
   "language": "python",
   "name": "python3"
  },
  "language_info": {
   "codemirror_mode": {
    "name": "ipython",
    "version": 3
   },
   "file_extension": ".py",
   "mimetype": "text/x-python",
   "name": "python",
   "nbconvert_exporter": "python",
   "pygments_lexer": "ipython3",
   "version": "3.9.12"
  },
  "orig_nbformat": 4
 },
 "nbformat": 4,
 "nbformat_minor": 2
}
