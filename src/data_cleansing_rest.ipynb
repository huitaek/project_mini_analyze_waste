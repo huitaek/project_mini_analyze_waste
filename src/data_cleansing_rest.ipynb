{
 "cells": [
  {
   "cell_type": "code",
   "execution_count": 2,
   "metadata": {},
   "outputs": [],
   "source": [
    "import pandas as pd\n",
    "from libs.lib import get_file_dir"
   ]
  },
  {
   "cell_type": "code",
   "execution_count": 11,
   "metadata": {},
   "outputs": [
    {
     "name": "stdout",
     "output_type": "stream",
     "text": [
      "Index(['Unnamed: 0', '년도', '종류1', '지역', '매립', '소각', '재활용'], dtype='object')\n"
     ]
    }
   ],
   "source": [
    "# 폐기물_처리주체별_처리현황_생활계폐기물_생활폐기물_사업장생활계폐기물(10-19)\n",
    "path = get_file_dir('refined','폐기물_처리주체별_처리현황_생활계폐기물_생활폐기물_사업장생활계폐기물(10-19).csv')\n",
    "df = pd.read_csv(path)\n",
    "\n",
    "df.replace('-','0').to_csv(path,index=False)"
   ]
  },
  {
   "cell_type": "code",
   "execution_count": 12,
   "metadata": {},
   "outputs": [],
   "source": [
    "path = get_file_dir('refined','폐기물_발생현황_생활계폐기물_생활폐기물_사업장생활계폐기물(10-19).csv')\n",
    "df = pd.read_csv(path)\n",
    "\n",
    "df.replace('-','0').to_csv(path,index=False)"
   ]
  }
 ],
 "metadata": {
  "interpreter": {
   "hash": "ddc820cf34ad67fe8490fc2f2da97ffc2731598be58de02108267b0519cec5ae"
  },
  "kernelspec": {
   "display_name": "Python 3.9.12 ('proj')",
   "language": "python",
   "name": "python3"
  },
  "language_info": {
   "codemirror_mode": {
    "name": "ipython",
    "version": 3
   },
   "file_extension": ".py",
   "mimetype": "text/x-python",
   "name": "python",
   "nbconvert_exporter": "python",
   "pygments_lexer": "ipython3",
   "version": "3.9.12"
  },
  "orig_nbformat": 4
 },
 "nbformat": 4,
 "nbformat_minor": 2
}
